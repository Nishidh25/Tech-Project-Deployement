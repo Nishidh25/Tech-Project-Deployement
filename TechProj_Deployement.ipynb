{
  "nbformat": 4,
  "nbformat_minor": 0,
  "metadata": {
    "colab": {
      "name": "TechProj_Deployement.ipynb",
      "provenance": [],
      "collapsed_sections": []
    },
    "kernelspec": {
      "name": "python3",
      "display_name": "Python 3"
    }
  },
  "cells": [
    {
      "cell_type": "markdown",
      "metadata": {
        "id": "jqhd6IPmeu3r"
      },
      "source": [
        "# Downloading model and required html files from github"
      ]
    },
    {
      "cell_type": "code",
      "metadata": {
        "id": "lU7MHMgk9irp",
        "outputId": "a5333d6e-9dee-424c-fca6-4c0e9313f7d1",
        "colab": {
          "base_uri": "https://localhost:8080/"
        }
      },
      "source": [
        "# Creating directories for flask\n",
        "!mkdir /content/static \n",
        "!mkdir /content/templates\n",
        "\n",
        "# Downloading resources from github \n",
        "!wget https://raw.githubusercontent.com/Nishidh25/Tech-Project-Deployement/main/static/example-csv.csv\n",
        "!wget https://raw.githubusercontent.com/Nishidh25/Tech-Project-Deployement/main/static/example-excel.xlsx\n",
        "!wget https://raw.githubusercontent.com/Nishidh25/Tech-Project-Deployement/main/templates/predicted_class.html\n",
        "!wget https://raw.githubusercontent.com/Nishidh25/Tech-Project-Deployement/main/templates/main.html\n",
        "#!wget --load-cookies /tmp/cookies.txt \"https://docs.google.com/uc?export=download&confirm=$(wget --quiet --save-cookies /tmp/cookies.txt --keep-session-cookies --no-check-certificate 'https://docs.google.com/uc?export=download&id=15x1YiEToDdA-WWOvuZFcOSHfNPUu0W-p' -O- | sed -rn 's/.*confirm=([0-9A-Za-z_]+).*/\\1\\n/p')&id=15x1YiEToDdA-WWOvuZFcOSHfNPUu0W-p\" -O model.h5 && rm -rf /tmp/cookies.txt\n",
        "\n",
        "!wget https://raw.githubusercontent.com/Nishidh25/Tech-Project-Deployement/main/ov_rfc.joblib # Trained Model\n",
        "#########################################################################################################\n",
        "# Model uploaded on Github lfs wont download once bandwidth is over you will get an error while running #\n",
        "# Download and upload model manually                                                                    # \n",
        "#########################################################################################################\n",
        "\n",
        "# Copy the files to the respective directories\n",
        "!cp example-csv.csv /content/static\n",
        "!cp example-excel.xlsx /content/static\n",
        "!cp main.html /content/templates\n",
        "!cp predicted_class.html /content/templates"
      ],
      "execution_count": null,
      "outputs": [
        {
          "output_type": "stream",
          "name": "stdout",
          "text": [
            "--2022-02-16 15:33:17--  https://raw.githubusercontent.com/Nishidh25/Tech-Project-Deployement/main/static/example-csv.csv\n",
            "Resolving raw.githubusercontent.com (raw.githubusercontent.com)... 185.199.108.133, 185.199.111.133, 185.199.109.133, ...\n",
            "Connecting to raw.githubusercontent.com (raw.githubusercontent.com)|185.199.108.133|:443... connected.\n",
            "HTTP request sent, awaiting response... 200 OK\n",
            "Length: 120600 (118K) [text/plain]\n",
            "Saving to: ‘example-csv.csv’\n",
            "\n",
            "example-csv.csv     100%[===================>] 117.77K  --.-KB/s    in 0.02s   \n",
            "\n",
            "2022-02-16 15:33:17 (5.74 MB/s) - ‘example-csv.csv’ saved [120600/120600]\n",
            "\n",
            "--2022-02-16 15:33:17--  https://raw.githubusercontent.com/Nishidh25/Tech-Project-Deployement/main/static/example-excel.xlsx\n",
            "Resolving raw.githubusercontent.com (raw.githubusercontent.com)... 185.199.108.133, 185.199.109.133, 185.199.110.133, ...\n",
            "Connecting to raw.githubusercontent.com (raw.githubusercontent.com)|185.199.108.133|:443... connected.\n",
            "HTTP request sent, awaiting response... 200 OK\n",
            "Length: 183442 (179K) [application/octet-stream]\n",
            "Saving to: ‘example-excel.xlsx’\n",
            "\n",
            "example-excel.xlsx  100%[===================>] 179.14K  --.-KB/s    in 0.02s   \n",
            "\n",
            "2022-02-16 15:33:17 (7.57 MB/s) - ‘example-excel.xlsx’ saved [183442/183442]\n",
            "\n",
            "--2022-02-16 15:33:17--  https://raw.githubusercontent.com/Nishidh25/Tech-Project-Deployement/main/templates/predicted_class.html\n",
            "Resolving raw.githubusercontent.com (raw.githubusercontent.com)... 185.199.108.133, 185.199.109.133, 185.199.110.133, ...\n",
            "Connecting to raw.githubusercontent.com (raw.githubusercontent.com)|185.199.108.133|:443... connected.\n",
            "HTTP request sent, awaiting response... 200 OK\n",
            "Length: 644 [text/plain]\n",
            "Saving to: ‘predicted_class.html’\n",
            "\n",
            "predicted_class.htm 100%[===================>]     644  --.-KB/s    in 0s      \n",
            "\n",
            "2022-02-16 15:33:17 (24.9 MB/s) - ‘predicted_class.html’ saved [644/644]\n",
            "\n",
            "--2022-02-16 15:33:17--  https://raw.githubusercontent.com/Nishidh25/Tech-Project-Deployement/main/templates/main.html\n",
            "Resolving raw.githubusercontent.com (raw.githubusercontent.com)... 185.199.108.133, 185.199.109.133, 185.199.110.133, ...\n",
            "Connecting to raw.githubusercontent.com (raw.githubusercontent.com)|185.199.108.133|:443... connected.\n",
            "HTTP request sent, awaiting response... 200 OK\n",
            "Length: 2609 (2.5K) [text/plain]\n",
            "Saving to: ‘main.html’\n",
            "\n",
            "main.html           100%[===================>]   2.55K  --.-KB/s    in 0s      \n",
            "\n",
            "2022-02-16 15:33:18 (48.2 MB/s) - ‘main.html’ saved [2609/2609]\n",
            "\n",
            "--2022-02-16 15:33:18--  https://raw.githubusercontent.com/Nishidh25/Tech-Project-Deployement/main/ov_rfc.joblib\n",
            "Resolving raw.githubusercontent.com (raw.githubusercontent.com)... 185.199.108.133, 185.199.109.133, 185.199.110.133, ...\n",
            "Connecting to raw.githubusercontent.com (raw.githubusercontent.com)|185.199.108.133|:443... connected.\n",
            "HTTP request sent, awaiting response... 200 OK\n",
            "Length: 8049 (7.9K) [application/octet-stream]\n",
            "Saving to: ‘ov_rfc.joblib’\n",
            "\n",
            "ov_rfc.joblib       100%[===================>]   7.86K  --.-KB/s    in 0s      \n",
            "\n",
            "2022-02-16 15:33:18 (62.3 MB/s) - ‘ov_rfc.joblib’ saved [8049/8049]\n",
            "\n"
          ]
        }
      ]
    },
    {
      "cell_type": "markdown",
      "metadata": {
        "id": "HD5mqH6qe8gC"
      },
      "source": [
        "# Imports"
      ]
    },
    {
      "cell_type": "code",
      "metadata": {
        "id": "a_VcQe3p8w-h",
        "outputId": "204efe84-7bea-4524-a60b-b62b74337d67",
        "colab": {
          "base_uri": "https://localhost:8080/"
        }
      },
      "source": [
        "!pip install flask_ngrok\n",
        "import os\n",
        "import numpy as np\n",
        "import tensorflow as tf\n",
        "from flask_ngrok import run_with_ngrok\n",
        "from werkzeug.utils import secure_filename\n",
        "from flask import Flask, request, render_template, flash, redirect, url_for"
      ],
      "execution_count": null,
      "outputs": [
        {
          "output_type": "stream",
          "name": "stdout",
          "text": [
            "Collecting flask_ngrok\n",
            "  Downloading flask_ngrok-0.0.25-py3-none-any.whl (3.1 kB)\n",
            "Requirement already satisfied: requests in /usr/local/lib/python3.7/dist-packages (from flask_ngrok) (2.23.0)\n",
            "Requirement already satisfied: Flask>=0.8 in /usr/local/lib/python3.7/dist-packages (from flask_ngrok) (1.1.4)\n",
            "Requirement already satisfied: Werkzeug<2.0,>=0.15 in /usr/local/lib/python3.7/dist-packages (from Flask>=0.8->flask_ngrok) (1.0.1)\n",
            "Requirement already satisfied: click<8.0,>=5.1 in /usr/local/lib/python3.7/dist-packages (from Flask>=0.8->flask_ngrok) (7.1.2)\n",
            "Requirement already satisfied: itsdangerous<2.0,>=0.24 in /usr/local/lib/python3.7/dist-packages (from Flask>=0.8->flask_ngrok) (1.1.0)\n",
            "Requirement already satisfied: Jinja2<3.0,>=2.10.1 in /usr/local/lib/python3.7/dist-packages (from Flask>=0.8->flask_ngrok) (2.11.3)\n",
            "Requirement already satisfied: MarkupSafe>=0.23 in /usr/local/lib/python3.7/dist-packages (from Jinja2<3.0,>=2.10.1->Flask>=0.8->flask_ngrok) (2.0.1)\n",
            "Requirement already satisfied: idna<3,>=2.5 in /usr/local/lib/python3.7/dist-packages (from requests->flask_ngrok) (2.10)\n",
            "Requirement already satisfied: certifi>=2017.4.17 in /usr/local/lib/python3.7/dist-packages (from requests->flask_ngrok) (2021.10.8)\n",
            "Requirement already satisfied: urllib3!=1.25.0,!=1.25.1,<1.26,>=1.21.1 in /usr/local/lib/python3.7/dist-packages (from requests->flask_ngrok) (1.24.3)\n",
            "Requirement already satisfied: chardet<4,>=3.0.2 in /usr/local/lib/python3.7/dist-packages (from requests->flask_ngrok) (3.0.4)\n",
            "Installing collected packages: flask-ngrok\n",
            "Successfully installed flask-ngrok-0.0.25\n"
          ]
        }
      ]
    },
    {
      "cell_type": "markdown",
      "metadata": {
        "id": "jqhmN5WRe-ow"
      },
      "source": [
        "# Prediction function\n",
        "\n"
      ]
    },
    {
      "cell_type": "code",
      "source": [
        "from joblib import load\n",
        "import pandas as pd \n",
        "import numpy as np"
      ],
      "metadata": {
        "id": "ednViyn32QPH"
      },
      "execution_count": null,
      "outputs": []
    },
    {
      "cell_type": "code",
      "metadata": {
        "id": "8fecvX4283mV"
      },
      "source": [
        "def predict(file):  \n",
        "  \"\"\"\n",
        "  Takes file directory as input , loads and pre processes the image and inputs \n",
        "  it to the model \n",
        "\n",
        "  Input : file(str)\n",
        "  Output : class(string) , pred(float)\n",
        "  \"\"\"\n",
        "  df = pd.read_csv(file,index_col=0)\n",
        "  df = df.drop(['payer_entity_id','payer_account','payee_entity_id','payee_account','opening_balance','closing_balance',\n",
        "               'predicted_category_label','predicted_category','category_created_at','category_created_by',\n",
        "                'category_last_updated_at','category_last_updated_by','type_code','type_code_level',\n",
        "                     'type_code_desc','bank_ref','cust_ref','category'], axis = 1)\n",
        "  df = df.drop(['transaction_id','day_name','month_name','trans_date','year',\n",
        "                    'category_label','amount'], axis = 1)\n",
        "  df['type_code_trans'].replace({'debit': '1', 'credit': '0'}, inplace=True)\n",
        "  print(df)\n",
        "  user_data = df.iloc[5] # taking 5 th row for classification now \n",
        "  \n",
        "  model = load('/content/ov_rfc.joblib')\n",
        "  pred = model.predict([user_data])[0] # Predict class\n",
        "  \n",
        "  return \"Classified as \",pred"
      ],
      "execution_count": null,
      "outputs": []
    },
    {
      "cell_type": "code",
      "source": [
        "predict('/content/example-csv.csv')"
      ],
      "metadata": {
        "colab": {
          "base_uri": "https://localhost:8080/"
        },
        "id": "bHBC52tu-fiT",
        "outputId": "d18be5d4-00fe-44d3-f3f1-b5a46d6e591b"
      },
      "execution_count": null,
      "outputs": [
        {
          "output_type": "stream",
          "name": "stdout",
          "text": [
            "     day  month  day_of_week  week_of_month type_code_trans  order_of_magnitude\n",
            "0.0  1.0    1.0          5.0            1.0               1                   3\n",
            "1.0  3.0    1.0          7.0            2.0               1                   4\n",
            "2.0  4.0    1.0          1.0            2.0               1                   3\n",
            "3.0  6.0    1.0          3.0            2.0               1                   4\n",
            "4.0  7.0    1.0          4.0            2.0               1                   2\n",
            "..   ...    ...          ...            ...             ...                 ...\n",
            "NaN  NaN    NaN          NaN            NaN               1                   4\n",
            "NaN  NaN    NaN          NaN            NaN               1                   4\n",
            "NaN  NaN    NaN          NaN            NaN               1                   4\n",
            "NaN  NaN    NaN          NaN            NaN               1                   4\n",
            "NaN  NaN    NaN          NaN            NaN               1                   4\n",
            "\n",
            "[1236 rows x 6 columns]\n"
          ]
        },
        {
          "output_type": "stream",
          "name": "stderr",
          "text": [
            "/usr/local/lib/python3.7/dist-packages/sklearn/base.py:338: UserWarning: Trying to unpickle estimator DecisionTreeClassifier from version 0.24.1 when using version 1.0.2. This might lead to breaking code or invalid results. Use at your own risk. For more info please refer to:\n",
            "https://scikit-learn.org/stable/modules/model_persistence.html#security-maintainability-limitations\n",
            "  UserWarning,\n"
          ]
        },
        {
          "output_type": "execute_result",
          "data": {
            "text/plain": [
              "('Classified as ', 'lottery')"
            ]
          },
          "metadata": {},
          "execution_count": 5
        }
      ]
    },
    {
      "cell_type": "markdown",
      "metadata": {
        "id": "6aOhU0_ehaJM"
      },
      "source": [
        "# Flask api\n",
        "Run the below code and select the second link (*.ngrok.io) to view the site.\n",
        "\n",
        "**If you get any error while running , please check the downloaded files**"
      ]
    },
    {
      "cell_type": "code",
      "source": [
        "from google.colab import drive\n",
        "drive.mount('/content/drive', force_remount=True)\n",
        "\n",
        "!mkdir -p /drive\n",
        "#umount /drive\n",
        "!mount --bind /content/drive/My\\ Drive /drive\n",
        "!mkdir -p /drive/ngrok-ssh\n",
        "!mkdir -p ~/.ssh"
      ],
      "metadata": {
        "id": "_oUE_uSbdii5",
        "outputId": "9ab1ec67-9228-4258-e4ed-daff20839cc2",
        "colab": {
          "base_uri": "https://localhost:8080/"
        }
      },
      "execution_count": null,
      "outputs": [
        {
          "output_type": "stream",
          "name": "stdout",
          "text": [
            "Mounted at /content/drive\n"
          ]
        }
      ]
    },
    {
      "cell_type": "code",
      "source": [
        "!mkdir -p /drive/ngrok-ssh\n",
        "%cd /drive/ngrok-ssh\n",
        "!wget https://bin.equinox.io/c/4VmDzA7iaHb/ngrok-stable-linux-amd64.zip -O ngrok-stable-linux-amd64.zip\n",
        "!unzip -u ngrok-stable-linux-amd64.zip\n",
        "!cp /drive/ngrok-ssh/ngrok /ngrok\n",
        "!chmod +x /ngrok"
      ],
      "metadata": {
        "id": "qBBGfsoydPeL",
        "outputId": "4f27f59d-feb4-4645-f49c-72b8d3c1ad16",
        "colab": {
          "base_uri": "https://localhost:8080/"
        }
      },
      "execution_count": null,
      "outputs": [
        {
          "output_type": "stream",
          "name": "stdout",
          "text": [
            "/drive/ngrok-ssh\n",
            "--2022-02-16 15:33:53--  https://bin.equinox.io/c/4VmDzA7iaHb/ngrok-stable-linux-amd64.zip\n",
            "Resolving bin.equinox.io (bin.equinox.io)... 54.237.133.81, 52.202.168.65, 18.205.222.128, ...\n",
            "Connecting to bin.equinox.io (bin.equinox.io)|54.237.133.81|:443... connected.\n",
            "HTTP request sent, awaiting response... 200 OK\n",
            "Length: 13832437 (13M) [application/octet-stream]\n",
            "Saving to: ‘ngrok-stable-linux-amd64.zip’\n",
            "\n",
            "ngrok-stable-linux- 100%[===================>]  13.19M  29.0MB/s    in 0.5s    \n",
            "\n",
            "2022-02-16 15:33:54 (29.0 MB/s) - ‘ngrok-stable-linux-amd64.zip’ saved [13832437/13832437]\n",
            "\n",
            "Archive:  ngrok-stable-linux-amd64.zip\n"
          ]
        }
      ]
    },
    {
      "cell_type": "code",
      "source": [
        "!/ngrok authtoken 1SjMRYXDsUsP1szKrqDzY8b10Uo_3JDCbUExZt3omKAj8AKJN"
      ],
      "metadata": {
        "id": "MloXnPbxd-vx",
        "outputId": "3c47a286-0374-45b8-a3ec-253dacd7c059",
        "colab": {
          "base_uri": "https://localhost:8080/"
        }
      },
      "execution_count": null,
      "outputs": [
        {
          "output_type": "stream",
          "name": "stdout",
          "text": [
            "Authtoken saved to configuration file: /root/.ngrok2/ngrok.yml\n"
          ]
        }
      ]
    },
    {
      "cell_type": "code",
      "metadata": {
        "id": "NkDN4FIN85MI",
        "outputId": "ccfbe18a-194a-45b8-a36b-d7f40f3b6e38",
        "colab": {
          "base_uri": "https://localhost:8080/"
        }
      },
      "source": [
        "UPLOAD_FOLDER = '/content/static' # Upload folder\n",
        "ALLOWED_EXTENSIONS = {'xlsx', 'csv'} # File type accepted\n",
        "\n",
        "app = Flask(__name__,template_folder='/content/templates',static_folder ='/content/static' ) \n",
        "app.config['UPLOAD_FOLDER'] = UPLOAD_FOLDER\n",
        "run_with_ngrok(app)\n",
        "\n",
        "def allowed_file(filename): \n",
        "  \"\"\"\n",
        "  Check if the file is a jpg or jpeg and returns it \n",
        "  \"\"\"\n",
        "  print(\"checking\")\n",
        "  return '.' in filename and \\\n",
        "           filename.rsplit('.', 1)[1].lower() in ALLOWED_EXTENSIONS\n",
        "\n",
        "\n",
        "\n",
        "@app.route('/', methods=['GET', 'POST'])\n",
        "def upload_file():\n",
        "    if request.method == 'POST':\n",
        "      file = request.files['file']\n",
        "      filename = secure_filename(file.filename)\n",
        "\n",
        "      file.save(os.path.join(app.config['UPLOAD_FOLDER'], filename))\n",
        "      file_dir = os.path.join(app.config['UPLOAD_FOLDER'], filename)\n",
        "      pred,acc = predict(file_dir)\n",
        "\n",
        "      return render_template(\"predicted_class.html\", prediction = pred, percent_accuracy = acc)\n",
        "    return render_template('main.html')\n",
        "if __name__ == '__main__':\n",
        "  app.run()"
      ],
      "execution_count": null,
      "outputs": [
        {
          "metadata": {
            "tags": null
          },
          "name": "stdout",
          "output_type": "stream",
          "text": [
            " * Serving Flask app \"__main__\" (lazy loading)\n",
            " * Environment: production\n",
            "\u001b[31m   WARNING: This is a development server. Do not use it in a production deployment.\u001b[0m\n",
            "\u001b[2m   Use a production WSGI server instead.\u001b[0m\n",
            " * Debug mode: off\n"
          ]
        },
        {
          "metadata": {
            "tags": null
          },
          "name": "stderr",
          "output_type": "stream",
          "text": [
            " * Running on http://127.0.0.1:5000/ (Press CTRL+C to quit)\n"
          ]
        },
        {
          "metadata": {
            "tags": null
          },
          "name": "stdout",
          "output_type": "stream",
          "text": [
            " * Running on http://9852-35-202-37-139.ngrok.io\n",
            " * Traffic stats available on http://127.0.0.1:4040\n"
          ]
        },
        {
          "metadata": {
            "tags": null
          },
          "name": "stderr",
          "output_type": "stream",
          "text": [
            "127.0.0.1 - - [16/Feb/2022 15:34:04] \"\u001b[37mGET / HTTP/1.1\u001b[0m\" 200 -\n",
            "127.0.0.1 - - [16/Feb/2022 15:34:05] \"\u001b[33mGET /favicon.ico HTTP/1.1\u001b[0m\" 404 -\n",
            "127.0.0.1 - - [16/Feb/2022 15:34:05] \"\u001b[37mGET / HTTP/1.1\u001b[0m\" 200 -\n",
            "127.0.0.1 - - [16/Feb/2022 15:34:17] \"\u001b[37mGET / HTTP/1.1\u001b[0m\" 200 -\n",
            "127.0.0.1 - - [16/Feb/2022 15:34:18] \"\u001b[33mGET /favicon.ico HTTP/1.1\u001b[0m\" 404 -\n",
            "127.0.0.1 - - [16/Feb/2022 15:34:20] \"\u001b[37mGET /static/example-csv.csv HTTP/1.1\u001b[0m\" 200 -\n",
            "/usr/local/lib/python3.7/dist-packages/sklearn/base.py:338: UserWarning: Trying to unpickle estimator DecisionTreeClassifier from version 0.24.1 when using version 1.0.2. This might lead to breaking code or invalid results. Use at your own risk. For more info please refer to:\n",
            "https://scikit-learn.org/stable/modules/model_persistence.html#security-maintainability-limitations\n",
            "  UserWarning,\n",
            "127.0.0.1 - - [16/Feb/2022 15:34:58] \"\u001b[37mPOST / HTTP/1.1\u001b[0m\" 200 -\n"
          ]
        },
        {
          "metadata": {
            "tags": null
          },
          "name": "stdout",
          "output_type": "stream",
          "text": [
            "     day  month  day_of_week  week_of_month type_code_trans  order_of_magnitude\n",
            "0.0  1.0    1.0          5.0            1.0               1                   3\n",
            "1.0  3.0    1.0          7.0            2.0               1                   4\n",
            "2.0  4.0    1.0          1.0            2.0               1                   3\n",
            "3.0  6.0    1.0          3.0            2.0               1                   4\n",
            "4.0  7.0    1.0          4.0            2.0               1                   2\n",
            "..   ...    ...          ...            ...             ...                 ...\n",
            "NaN  NaN    NaN          NaN            NaN               1                   4\n",
            "NaN  NaN    NaN          NaN            NaN               1                   4\n",
            "NaN  NaN    NaN          NaN            NaN               1                   4\n",
            "NaN  NaN    NaN          NaN            NaN               1                   4\n",
            "NaN  NaN    NaN          NaN            NaN               1                   4\n",
            "\n",
            "[1236 rows x 6 columns]\n"
          ]
        },
        {
          "metadata": {
            "tags": null
          },
          "name": "stderr",
          "output_type": "stream",
          "text": [
            "127.0.0.1 - - [16/Feb/2022 15:37:28] \"\u001b[37mGET / HTTP/1.1\u001b[0m\" 200 -\n"
          ]
        }
      ]
    },
    {
      "cell_type": "code",
      "source": [
        ""
      ],
      "metadata": {
        "id": "AseGGcY-_nwA"
      },
      "execution_count": null,
      "outputs": []
    }
  ]
}